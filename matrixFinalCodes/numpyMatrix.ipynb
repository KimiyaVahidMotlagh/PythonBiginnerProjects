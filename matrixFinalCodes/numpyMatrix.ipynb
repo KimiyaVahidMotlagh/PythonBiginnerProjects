{
 "cells": [
  {
   "cell_type": "code",
   "execution_count": 1,
   "metadata": {},
   "outputs": [],
   "source": [
    "import numpy as np"
   ]
  },
  {
   "cell_type": "code",
   "execution_count": 2,
   "metadata": {},
   "outputs": [],
   "source": [
    "def matrix_input():\n",
    "    row = int(input(\"enter #row: \"))\n",
    "    col = int(input(\"enter #col: \"))\n",
    "    input_line = list(map(int, input(\"enter matrix numbers in a line seprated by spaces: \\n >>\").split()))\n",
    "    matrix = np.array(input_line).reshape(row, col)\n",
    "    return matrix"
   ]
  },
  {
   "cell_type": "code",
   "execution_count": 3,
   "metadata": {},
   "outputs": [],
   "source": [
    "def vactor_input(matrix):\n",
    "    vactor_input = list(map(int, input(\"enter vactor: \\n >>\").split()))\n",
    "    vactor = np.array(vactor_input).reshape(len(vactor_input), 1)\n",
    "    return np.hstack([matrix, vactor]) "
   ]
  },
  {
   "cell_type": "code",
   "execution_count": 4,
   "metadata": {},
   "outputs": [],
   "source": [
    "\n",
    "def add_Identical_matrix(matrix):\n",
    "    identical_matrix = np.identity(len(matrix))\n",
    "    matrix = np.hstack([matrix, identical_matrix])\n",
    "    return matrix\n"
   ]
  },
  {
   "cell_type": "code",
   "execution_count": 5,
   "metadata": {},
   "outputs": [],
   "source": [
    "\n",
    "def row_echolen(matrix):\n",
    "    row, col = matrix.shape\n",
    "    if row == 0 or col == 0:\n",
    "        return matrix\n",
    "    \n",
    "    for i in range(len(matrix)):\n",
    "        if matrix[i,0] != 0:\n",
    "            break\n",
    "        else:   \n",
    "            matrix_B = row_echolen(matrix[:,1:])\n",
    "            return np.hstack([matrix[:,:1], matrix_B]) \n",
    "            \n",
    "    if i > 0:\n",
    "        temp_row = matrix[i].copy()\n",
    "        matrix[i] = matrix[0]\n",
    "        matrix[0] = temp_row\n",
    "\n",
    "    matrix[0] = matrix[0]/matrix[0,0]\n",
    "    matrix[1:] -= matrix[0] * matrix[1:,0:1]\n",
    "    matrix_B = row_echolen(matrix[1:,1:])\n",
    "\n",
    "    return np.vstack([matrix[:1], np.hstack([matrix[1:,:1], matrix_B]) ])\n",
    "    \n"
   ]
  },
  {
   "cell_type": "code",
   "execution_count": 6,
   "metadata": {},
   "outputs": [],
   "source": [
    "\n",
    "def matrix_check(matrix):\n",
    "    if matrix.ndim > 1:\n",
    "        return 0\n",
    "    else:\n",
    "        return -1    "
   ]
  },
  {
   "cell_type": "code",
   "execution_count": 7,
   "metadata": {},
   "outputs": [],
   "source": [
    "def get_vactor(matrix):\n",
    "    return matrix[ : , len(matrix[0])-1: ]"
   ]
  },
  {
   "cell_type": "code",
   "execution_count": 8,
   "metadata": {},
   "outputs": [],
   "source": [
    "\n",
    "def get_inverse_matrix(matrix):\n",
    "    return matrix[ : , int(len(matrix[0])/2): ]"
   ]
  },
  {
   "cell_type": "code",
   "execution_count": 9,
   "metadata": {},
   "outputs": [],
   "source": [
    "def pivot_finder(row):\n",
    "    pivot_index = 0\n",
    "    for pivot_index in range(len(row)):\n",
    "        if row[pivot_index] > 0:\n",
    "            break\n",
    "        else:\n",
    "            pivot_index += 1 \n",
    "\n",
    "    return pivot_index  \n"
   ]
  },
  {
   "cell_type": "code",
   "execution_count": 10,
   "metadata": {},
   "outputs": [],
   "source": [
    "def reduced_row_echolen_form(matrix):\n",
    "    \n",
    "    matrix = row_echolen(matrix)\n",
    "    matrix = np.flip(matrix, 0)\n",
    "\n",
    "    for col in range(len(matrix[0])):\n",
    "        for row_index, row in enumerate(matrix):\n",
    "            pivot_index = pivot_finder(row)\n",
    "            matrix[row_index+1:] = matrix[row_index+1:] - (matrix[row_index] * matrix[row_index+1: ,pivot_index:pivot_index+1])\n",
    "\n",
    "    matrix = np.flip(matrix, 0)\n",
    "\n",
    "    return matrix\n",
    "        "
   ]
  },
  {
   "cell_type": "code",
   "execution_count": 11,
   "metadata": {},
   "outputs": [
    {
     "data": {
      "text/plain": [
       "array([[1, 0, 0, 0],\n",
       "       [0, 1, 0, 0],\n",
       "       [0, 0, 1, 0],\n",
       "       [0, 0, 0, 1]])"
      ]
     },
     "execution_count": 11,
     "metadata": {},
     "output_type": "execute_result"
    }
   ],
   "source": [
    "matrix = np.array([[6, 8, 14, 10], [4, 12, 8, 6], [9, 15, 12, 8], [2, 5, 4, 10]])\n",
    "reduced_row_echolen_form(matrix)\n",
    "        \n"
   ]
  }
 ],
 "metadata": {
  "interpreter": {
   "hash": "7ed2d2d602d4bdc7d3cfd408e511394e2d09442356d9cbc2a9e0e90c5cb64198"
  },
  "kernelspec": {
   "display_name": "Python 3 (ipykernel)",
   "language": "python",
   "name": "python3"
  },
  "language_info": {
   "codemirror_mode": {
    "name": "ipython",
    "version": 3
   },
   "file_extension": ".py",
   "mimetype": "text/x-python",
   "name": "python",
   "nbconvert_exporter": "python",
   "pygments_lexer": "ipython3",
   "version": "3.10.1"
  }
 },
 "nbformat": 4,
 "nbformat_minor": 2
}
