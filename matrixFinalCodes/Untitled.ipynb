{
 "cells": [
  {
   "cell_type": "code",
   "execution_count": 3,
   "id": "b8da1a74",
   "metadata": {},
   "outputs": [],
   "source": [
    "import numpy as np"
   ]
  },
  {
   "cell_type": "code",
   "execution_count": 4,
   "id": "5016194b",
   "metadata": {},
   "outputs": [],
   "source": [
    "matrix_A = []\n",
    "matrix_B = []\n",
    "result = []"
   ]
  },
  {
   "cell_type": "code",
   "execution_count": 5,
   "id": "df2919c6",
   "metadata": {},
   "outputs": [],
   "source": [
    "\n",
    "def matrix_input():\n",
    "    matrix = []\n",
    "    row = int(input(\"enter #row: \"))\n",
    "    col = int(input(\"enter #col: \"))\n",
    "\n",
    "    for i in range(0, row, 1):\n",
    "        matrix_row = list(map(int, input(\">>\").split()))\n",
    "        if len(matrix_row) != col:\n",
    "            i -= 1\n",
    "        else:    \n",
    "            matrix.append(matrix_row)\n",
    "    return matrix  \n"
   ]
  },
  {
   "cell_type": "code",
   "execution_count": 6,
   "id": "e2779e1a",
   "metadata": {},
   "outputs": [],
   "source": [
    "\n",
    "def vector_input(matrix):\n",
    "    print(\"enter augmented vector: \\n\")\n",
    "    vector = list(map(int, input(\">>\").split()))\n",
    "    for i in range(len(matrix)):\n",
    "        matrix[i].append(vector[i])\n",
    "    return matrix\n"
   ]
  },
  {
   "cell_type": "code",
   "execution_count": 7,
   "id": "ef0ce632",
   "metadata": {},
   "outputs": [],
   "source": [
    "\n",
    "def add_Identical_matrix(matrix):\n",
    "    for i in range(len(matrix)):\n",
    "        temp_row = []\n",
    "        for j in range(len(matrix[i])):\n",
    "            if i == j: temp_row.append(1)\n",
    "            else: temp_row.append(0)    \n",
    "        for j in range(len(temp_row)):\n",
    "         matrix[i].append(temp_row[j])\n",
    "    return matrix\n",
    "    "
   ]
  },
  {
   "cell_type": "code",
   "execution_count": 8,
   "id": "fe4ff4d1",
   "metadata": {},
   "outputs": [],
   "source": [
    "\n",
    "def check_below_rows(matrix, row_index, pivot_index ):\n",
    "    for i in range(row_index+1,len(matrix)):\n",
    "        if matrix[i][pivot_index] != 0:\n",
    "            return i\n",
    "    return -1 \n"
   ]
  },
  {
   "cell_type": "code",
   "execution_count": 9,
   "id": "aef40b9f",
   "metadata": {},
   "outputs": [],
   "source": [
    "\n",
    "def row_multiply(row, scaler):\n",
    "    result = [ scaler*item for item in row]\n",
    "    return result\n"
   ]
  },
  {
   "cell_type": "code",
   "execution_count": 10,
   "id": "c6e19a16",
   "metadata": {},
   "outputs": [],
   "source": [
    "\n",
    "def row_echolen_form(matrix):\n",
    "    pivot_counter= 0\n",
    "    for row_index,main_row in enumerate(matrix):\n",
    "        # check pivot value\n",
    "        if main_row[pivot_counter] == 0 :\n",
    "            good_row = check_below_rows(matrix, row_index, pivot_counter)\n",
    "            if good_row == -1 :\n",
    "                pivot_counter += 1\n",
    "                continue\n",
    "            else: \n",
    "                matrix[row_index], matrix[good_row] = matrix[good_row], matrix[row_index]\n",
    "                main_row = matrix[row_index]\n",
    "        \n",
    "         #  below element change to zero \n",
    "        for i, row in enumerate(matrix[row_index+1:]):\n",
    "            scaler = row[pivot_counter]/ matrix[row_index][pivot_counter]\n",
    "            mult_row = row_multiply(main_row, scaler)\n",
    "            matrix[row_index+i+1] = [row[x] - mult_row[x] for x in range(len(mult_row))]\n",
    "        pivot_counter += 1\n",
    "    return matrix\n"
   ]
  },
  {
   "cell_type": "code",
   "execution_count": 11,
   "id": "0e92dd80",
   "metadata": {},
   "outputs": [],
   "source": [
    "\n",
    "def pivot_index_finder(row):\n",
    "    pivot = 0\n",
    "    for i in range(len(row)):\n",
    "        if row[i] != 0:\n",
    "            break\n",
    "        pivot += 1\n",
    "    return pivot\n"
   ]
  },
  {
   "cell_type": "code",
   "execution_count": 12,
   "id": "4f6abd75",
   "metadata": {},
   "outputs": [],
   "source": [
    "\n",
    "def reduced_row_echolen_form(matrix):\n",
    "    matrix.reverse()\n",
    "    for row_index,main_row in enumerate(matrix):\n",
    "        pivot_index = pivot_index_finder(main_row)\n",
    "        matrix[row_index] = row_multiply(main_row, 1/main_row[pivot_index])\n",
    "        main_row =  matrix[row_index]\n",
    "        for i, row in enumerate(matrix[row_index+1:]):\n",
    "            scaler = row[pivot_index]/ main_row[pivot_index]\n",
    "            mult_row = row_multiply(main_row, scaler)\n",
    "            matrix[row_index+i+1] = [row[x] - mult_row[x] for x in range(len(mult_row))]\n",
    "    matrix.reverse()\n",
    "    return matrix"
   ]
  },
  {
   "cell_type": "code",
   "execution_count": 13,
   "id": "3ffa3302",
   "metadata": {},
   "outputs": [],
   "source": [
    "\n",
    "\n",
    "def initiate_result_value(matrix_A, matrix_B):\n",
    "    for i in range(len(matrix_A)):\n",
    "        temp_list =[]\n",
    "        for j in range(len(matrix_B[0])):\n",
    "            temp_list.append(0)\n",
    "        result.append(temp_list)    \n"
   ]
  },
  {
   "cell_type": "code",
   "execution_count": 14,
   "id": "6dc66950",
   "metadata": {},
   "outputs": [],
   "source": [
    "\n",
    "def multiply(matrix_A, matrix_B):\n",
    "    for row in range(len(matrix_A)):\n",
    "        for col in range(len(matrix_B[0])):\n",
    "            for i in range(len(matrix_A[0])):\n",
    "                result[row][col] += matrix_A[row][i]* matrix_B[i][col]\n",
    "                "
   ]
  },
  {
   "cell_type": "code",
   "execution_count": 15,
   "id": "a90b6fd5",
   "metadata": {},
   "outputs": [],
   "source": [
    "\n",
    "def print_matrix(matrix):\n",
    "    for i in range(len(matrix)):\n",
    "        print(matrix[i])\n",
    "  "
   ]
  },
  {
   "cell_type": "code",
   "execution_count": 16,
   "id": "6942c1ff",
   "metadata": {},
   "outputs": [],
   "source": [
    "\n",
    "def get_vactor(matrix):\n",
    "    final_vactor = []\n",
    "    for row in matrix:\n",
    "        final_vactor.append(row[len(matrix)-1])\n",
    "\n",
    "    return final_vactor    \n"
   ]
  },
  {
   "cell_type": "code",
   "execution_count": 17,
   "id": "9eceb4ad",
   "metadata": {},
   "outputs": [],
   "source": [
    "\n",
    "def get_inverse_matrix(matrix):\n",
    "    final_matrix = []\n",
    "    for row in matrix:\n",
    "        temp_row = []\n",
    "        for index in range(int(len(row)/2), len(row)):\n",
    "            temp_row.append(row[index])\n",
    "        final_matrix.append(temp_row)\n",
    "    return final_matrix\n"
   ]
  },
  {
   "cell_type": "code",
   "execution_count": null,
   "id": "d3ea540a",
   "metadata": {},
   "outputs": [],
   "source": [
    "\n",
    "\n",
    "\n",
    "\n",
    "\n"
   ]
  },
  {
   "cell_type": "code",
   "execution_count": 18,
   "id": "0455f6ad",
   "metadata": {},
   "outputs": [
    {
     "name": "stdout",
     "output_type": "stream",
     "text": [
      "enter #row: 3\n",
      "enter #col: 3\n",
      ">>2 3 1 \n",
      ">>4 6 8\n",
      ">>12 8 4\n"
     ]
    },
    {
     "data": {
      "text/plain": [
       "[[2, 3, 1], [4, 6, 8], [12, 8, 4]]"
      ]
     },
     "execution_count": 18,
     "metadata": {},
     "output_type": "execute_result"
    }
   ],
   "source": [
    "matrix_A = matrix_input()\n",
    "matrix_A"
   ]
  },
  {
   "cell_type": "code",
   "execution_count": 19,
   "id": "460bbcbc",
   "metadata": {},
   "outputs": [
    {
     "name": "stdout",
     "output_type": "stream",
     "text": [
      "[2, 3, 1, 1, 0, 0]\n",
      "[4, 6, 8, 0, 1, 0]\n",
      "[12, 8, 4, 0, 0, 1]\n"
     ]
    }
   ],
   "source": [
    "matrix_A = add_Identical_matrix(matrix_A)\n",
    "print_matrix(matrix_A)"
   ]
  },
  {
   "cell_type": "code",
   "execution_count": 20,
   "id": "42ce7f8e",
   "metadata": {},
   "outputs": [
    {
     "name": "stdout",
     "output_type": "stream",
     "text": [
      "[2, 3, 1, 1, 0, 0]\n",
      "[0.0, -10.0, -2.0, -6.0, 0.0, 1.0]\n",
      "[0.0, 0.0, 6.0, -2.0, 1.0, 0.0]\n"
     ]
    }
   ],
   "source": [
    "echolen_matrix_A = row_echolen_form(matrix_A)\n",
    "print_matrix(echolen_matrix_A)"
   ]
  },
  {
   "cell_type": "code",
   "execution_count": null,
   "id": "d3e21cde",
   "metadata": {},
   "outputs": [],
   "source": [
    "print_matrix(echolen_matrix_A)"
   ]
  },
  {
   "cell_type": "code",
   "execution_count": 21,
   "id": "9bdb4886",
   "metadata": {},
   "outputs": [
    {
     "name": "stdout",
     "output_type": "stream",
     "text": [
      "[-0.33333333333333337, -0.033333333333333326, 0.15000000000000002]\n",
      "[0.6666666666666667, -0.03333333333333333, -0.1]\n",
      "[-0.3333333333333333, 0.16666666666666666, 0.0]\n"
     ]
    }
   ],
   "source": [
    "reduced_matrix_A = reduced_row_echolen_form(echolen_matrix_A)\n",
    "print_matrix(get_inverse_matrix(reduced_matrix_A))"
   ]
  },
  {
   "cell_type": "code",
   "execution_count": null,
   "id": "04ae57ab",
   "metadata": {},
   "outputs": [],
   "source": []
  },
  {
   "cell_type": "code",
   "execution_count": null,
   "id": "b6dfb88f",
   "metadata": {},
   "outputs": [],
   "source": []
  }
 ],
 "metadata": {
  "kernelspec": {
   "display_name": "Python 3 (ipykernel)",
   "language": "python",
   "name": "python3"
  },
  "language_info": {
   "codemirror_mode": {
    "name": "ipython",
    "version": 3
   },
   "file_extension": ".py",
   "mimetype": "text/x-python",
   "name": "python",
   "nbconvert_exporter": "python",
   "pygments_lexer": "ipython3",
   "version": "3.10.1"
  }
 },
 "nbformat": 4,
 "nbformat_minor": 5
}
